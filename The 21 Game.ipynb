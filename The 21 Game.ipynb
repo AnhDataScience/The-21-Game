{
 "cells": [
  {
   "cell_type": "code",
   "execution_count": 1,
   "id": "2c66c179",
   "metadata": {},
   "outputs": [
    {
     "name": "stdout",
     "output_type": "stream",
     "text": [
      "Bắt đầu trò chơi 21!\n",
      "Bạn sẽ là người chơi đầu tiên.\n",
      "Số hiện tại là: 0\n",
      "Bạn muốn thêm bao nhiêu số? (1-3) 3\n",
      "Số hiện tại là: 3\n",
      "Máy chọn thêm 1 số.\n",
      "Số hiện tại là: 4\n",
      "Bạn muốn thêm bao nhiêu số? (1-3) 3\n",
      "Số hiện tại là: 7\n",
      "Máy chọn thêm 3 số.\n",
      "Số hiện tại là: 10\n",
      "Bạn muốn thêm bao nhiêu số? (1-3) 3\n",
      "Số hiện tại là: 13\n",
      "Máy chọn thêm 1 số.\n",
      "Số hiện tại là: 14\n",
      "Bạn muốn thêm bao nhiêu số? (1-3) 3\n",
      "Số hiện tại là: 17\n",
      "Máy chọn thêm 2 số.\n",
      "Số hiện tại là: 19\n",
      "Bạn muốn thêm bao nhiêu số? (1-3) 1\n",
      "Số hiện tại là: 20\n",
      "Máy chọn thêm 1 số.\n",
      "Số hiện tại là: 21\n",
      "Máy đã thua.\n",
      "Bạn có muốn chơi lại? (y/n) n\n"
     ]
    }
   ],
   "source": [
    "from random import randint\n",
    "\n",
    "while True:\n",
    "    current_number = 0\n",
    "    current_player = \"\"\n",
    "    print(\"Bắt đầu trò chơi 21!\")\n",
    "    \n",
    "    # Random người chơi đầu tiên\n",
    "    if randint(0, 1) == 0:\n",
    "        current_player = \"human\"\n",
    "        print(\"Bạn sẽ là người chơi đầu tiên.\")\n",
    "    else:\n",
    "        current_player = \"computer\"\n",
    "        print(\"Máy sẽ là người chơi đầu tiên.\")\n",
    "\n",
    "    while current_number < 21:\n",
    "        print(\"Số hiện tại là: \" + str(current_number))\n",
    "\n",
    "        # Nếu là lượt của người chơi\n",
    "        if current_player == \"human\":\n",
    "            player_choice = \"\"\n",
    "            while player_choice not in [\"1\", \"2\", \"3\"]:\n",
    "                player_choice = input(\"Bạn muốn thêm bao nhiêu số? (1-3) \")\n",
    "            player_choice = int(player_choice)\n",
    "            current_number += player_choice\n",
    "\n",
    "            if current_number >= 21:\n",
    "                print(\"Số hiện tại là: \" + str(current_number))\n",
    "                print(\"Bạn đã thua.\")\n",
    "                break\n",
    "            else:\n",
    "                current_player = \"computer\"\n",
    "\n",
    "        # Nếu là lượt của máy\n",
    "        else:\n",
    "            computer_choice = randint(1, 3)\n",
    "            print(\"Máy chọn thêm \" + str(computer_choice) + \" số.\")\n",
    "            current_number += computer_choice\n",
    "\n",
    "            if current_number >= 21:\n",
    "                print(\"Số hiện tại là: \" + str(current_number))\n",
    "                print(\"Máy đã thua.\")\n",
    "                break\n",
    "            else:\n",
    "                current_player = \"human\"\n",
    "\n",
    "    play_again = input(\"Bạn có muốn chơi lại? (y/n) \")\n",
    "    if play_again.lower().startswith(\"y\"):\n",
    "        continue\n",
    "    else:\n",
    "        break\n",
    "        "
   ]
  }
 ],
 "metadata": {
  "kernelspec": {
   "display_name": "Python 3 (ipykernel)",
   "language": "python",
   "name": "python3"
  },
  "language_info": {
   "codemirror_mode": {
    "name": "ipython",
    "version": 3
   },
   "file_extension": ".py",
   "mimetype": "text/x-python",
   "name": "python",
   "nbconvert_exporter": "python",
   "pygments_lexer": "ipython3",
   "version": "3.9.13"
  }
 },
 "nbformat": 4,
 "nbformat_minor": 5
}
